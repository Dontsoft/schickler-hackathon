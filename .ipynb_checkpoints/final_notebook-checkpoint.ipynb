{
 "cells": [
  {
   "cell_type": "code",
   "execution_count": 1,
   "id": "10a1d96f-7a62-40bb-abbf-82a844a4d266",
   "metadata": {},
   "outputs": [],
   "source": [
    "import pandas as pd\n",
    "import pyarrow.parquet as pq\n",
    "import matplotlib.pyplot as plt\n",
    "import datetime\n",
    "\n",
    "pd.set_option('display.max_columns', 500)\n",
    "pd.set_option('display.max_rows', 500)"
   ]
  },
  {
   "cell_type": "code",
   "execution_count": 2,
   "id": "eac55c54-9219-4d1e-b975-041a437d305c",
   "metadata": {},
   "outputs": [],
   "source": [
    "def get_first_batch(path):\n",
    "    parquet_file = pq.ParquetFile(path)\n",
    "    for batch in parquet_file.iter_batches():\n",
    "        return batch.to_pandas()"
   ]
  },
  {
   "cell_type": "code",
   "execution_count": 64,
   "id": "6a2cf99e-e0cf-4764-acdc-4dc1a3b8f5c4",
   "metadata": {},
   "outputs": [],
   "source": [
    "ARTICLE_DATA_PATH = \"data/Drive Daten/students_articles_enriched_1.parquet.gzip\"\n",
    "PAGEVIEW_DATA_PATH = \"data/Drive Daten/students_pageviews_2021-01-02.parquet.gzip\""
   ]
  },
  {
   "cell_type": "code",
   "execution_count": 103,
   "id": "b742cf55-6a58-4538-bc28-ec3ad41d4f8b",
   "metadata": {},
   "outputs": [],
   "source": [
    "import glob\n",
    "import os"
   ]
  },
  {
   "cell_type": "code",
   "execution_count": null,
   "id": "a3424887-85a5-4fdc-bd8c-d99a935a0153",
   "metadata": {},
   "outputs": [],
   "source": [
    "article_data = get_first_batch(ARTICLE_DATA_PATH)\n",
    "\n",
    "\n",
    "pageview_data = pd.concat([get_first_batch(f) for f in glob.glob(f\"{os.getcwd()}/data/Drive Daten/students_pageviews*.gzip\")])\n",
    "\n",
    "pageview_data = get_first_batch(PAGEVIEW_DATA_PATH)"
   ]
  },
  {
   "cell_type": "code",
   "execution_count": null,
   "id": "0cb87e93-9913-4fc5-940d-bf9872f8da5f",
   "metadata": {},
   "outputs": [],
   "source": [
    "# Remove new lines from full text for ARI\n",
    "article_data[\"article_full_text\"] = article_data[\"article_full_text\"].apply(lambda x: x.replace(\"\\n\", \" \"))"
   ]
  },
  {
   "cell_type": "code",
   "execution_count": null,
   "id": "090feca4-97c8-4930-81f8-9a919c4557ff",
   "metadata": {},
   "outputs": [],
   "source": [
    "# Calculate text complexity using rounded ARI\n",
    "def ARI(text):\n",
    "    score = 0.0 \n",
    "    if len(text) > 0:\n",
    "        score = round(4.71 * (len(text) / len(text.split()) ) +  0.5 * ( len(text.split()) / len(text.split('.'))) - 21.43)\n",
    "        return score if score > 0 else 0\n",
    "article_data[\"ARI\"] = article_data[\"article_full_text\"].apply(lambda x:ARI(x))"
   ]
  },
  {
   "cell_type": "code",
   "execution_count": null,
   "id": "317217fe-672d-4953-98d6-ee5ec2199483",
   "metadata": {},
   "outputs": [],
   "source": [
    "# Get all columns\n",
    "article_data.columns"
   ]
  },
  {
   "cell_type": "code",
   "execution_count": null,
   "id": "bdfe05e4-97dd-40b2-ba8f-e20ca127f1d5",
   "metadata": {},
   "outputs": [],
   "source": [
    "article_data.head()"
   ]
  },
  {
   "cell_type": "code",
   "execution_count": null,
   "id": "18aa170e-133d-4b57-bb62-87999f8cc412",
   "metadata": {},
   "outputs": [],
   "source": [
    "# Remove all plain text columns\n",
    "PLAIN_TEXT_COLUMNS = [\"article_header\", \"article_teaser\", \"article_full_text\", \"article_preview_emotion\"]\n",
    "article_data.drop(columns=PLAIN_TEXT_COLUMNS, inplace=True)"
   ]
  },
  {
   "cell_type": "code",
   "execution_count": null,
   "id": "06d961ae-2b48-4541-b741-ab5548859ba5",
   "metadata": {},
   "outputs": [],
   "source": [
    "article_data.head()"
   ]
  },
  {
   "cell_type": "code",
   "execution_count": null,
   "id": "5c9e6d8f-3141-4309-bc24-6c324e4f2dfd",
   "metadata": {},
   "outputs": [],
   "source": [
    "# Fill missing data\n",
    "article_data[[\"topic\", \"locality\", \"newstype\", \"genre\"]] = article_data[[\"topic\", \"locality\", \"newstype\", \"genre\"]].fillna(\"\")\n",
    "\n",
    "EMO_COLUMNS = [\"pad_pleasure\", \"pad_arousal\", \"pad_dominance\", \"preview_pad_pleasure\", \"preview_pad_arousal\", \"preview_pad_dominance\", \"emo_aerger\", \"emo_erwarten\", \"emo_ekel\", \"emo_furcht\", \"emo_freude\", \"emo_traurigkeit\", \"emo_ueberraschung\", \"emo_vertrauen\", \"preview_emo_aerger\", \"preview_emo_erwarten\", \"preview_emo_ekel\", \"preview_emo_furcht\", \"preview_emo_freude\", \"preview_emo_traurigkeit\", \"preview_emo_ueberraschung\", \"preview_emo_vertrauen\"]\n",
    "\n",
    "article_data[EMO_COLUMNS] = article_data[EMO_COLUMNS].fillna(0)"
   ]
  },
  {
   "cell_type": "code",
   "execution_count": null,
   "id": "95e2b766-c81f-4509-bb99-1865529898bc",
   "metadata": {},
   "outputs": [],
   "source": [
    "article_data.head()"
   ]
  },
  {
   "cell_type": "code",
   "execution_count": null,
   "id": "daeb2d61-9270-4952-b650-8fb7664e534e",
   "metadata": {},
   "outputs": [],
   "source": [
    "pageview_data.head()"
   ]
  },
  {
   "cell_type": "code",
   "execution_count": null,
   "id": "7d9e8fc1-b516-432a-a20c-4b9d8fa59163",
   "metadata": {},
   "outputs": [],
   "source": [
    "pageview_data_grouped = pageview_data[[\"article_drive_id\", \"time_engaged_in_s\"]].groupby([\"article_drive_id\"]).sum([\"time_engaged_in_s\"]).reset_index()"
   ]
  },
  {
   "cell_type": "code",
   "execution_count": null,
   "id": "9cfc8bc9-d527-45a5-aeb3-bafd184c6f82",
   "metadata": {},
   "outputs": [],
   "source": [
    "merged_data = pd.merge(article_data, pageview_data_grouped, on=\"article_drive_id\")\n",
    "merged_data.columns"
   ]
  },
  {
   "cell_type": "code",
   "execution_count": null,
   "id": "c1f98510-36c3-465f-a3fc-26ba1afb4659",
   "metadata": {},
   "outputs": [],
   "source": [
    "merged_data"
   ]
  },
  {
   "cell_type": "code",
   "execution_count": null,
   "id": "bb8a9f96-15f1-480b-b408-642b35d2402d",
   "metadata": {},
   "outputs": [],
   "source": [
    "# merged_data[\"days_published_ago\"] = merged_data.apply(lambda x: max(0, (datetime.datetime(2021, 1, 1) - x.published_at_local).days), axis=1)\n",
    "# merged_data"
   ]
  },
  {
   "cell_type": "code",
   "execution_count": null,
   "id": "2954fb14-4783-4b31-8192-32c5f105ebf1",
   "metadata": {},
   "outputs": [],
   "source": [
    "COLUMNS_TO_DROP = [\"published_at_local\", \"modified_at_local\", \"publisher_id\"]\n",
    "merged_data[\"is_plus_article\"].fillna(False, inplace=True)\n",
    "merged_data = pd.merge(merged_data, pageview_data[[\"article_drive_id\", \"portal_id\"]], on=\"article_drive_id\")\n",
    "merged_data_cleaned = pd.get_dummies(merged_data.drop(columns=COLUMNS_TO_DROP), columns=[\"topic\", \"locality\", \"newstype\", \"genre\", \"portal_id\"])\n",
    "# grouped_data = merged_data_cleaned.groupby([\"article_drive_id\"]).sum([\"time_engaged_is\"]).mean().reset_index()\n",
    "# grouped_data\n",
    "merged_data_cleaned"
   ]
  },
  {
   "cell_type": "code",
   "execution_count": null,
   "id": "f4a08451-2edf-4028-9bb9-bc49ffdde683",
   "metadata": {},
   "outputs": [],
   "source": [
    "abs(merged_data_cleaned.corr())"
   ]
  },
  {
   "cell_type": "code",
   "execution_count": null,
   "id": "74a96e42-9184-4848-ab0a-a6c5cc1f9ad3",
   "metadata": {},
   "outputs": [],
   "source": [
    "import seaborn as sns\n",
    "sns.set(rc={'figure.figsize':(20,20)})\n",
    "sns.heatmap(merged_data_cleaned.corr())"
   ]
  },
  {
   "cell_type": "code",
   "execution_count": null,
   "id": "3a78fd22-19e4-474a-9af1-ee8effb31514",
   "metadata": {},
   "outputs": [],
   "source": [
    "abs(merged_data_cleaned.corr()[\"time_engaged_in_s\"]).sort_values(ascending=False)"
   ]
  },
  {
   "cell_type": "code",
   "execution_count": null,
   "id": "45b11a2c-abf0-4cf4-9694-b230c0b40957",
   "metadata": {},
   "outputs": [],
   "source": [
    "merged_data_cleaned_no_dummies = merged_data.drop(columns=COLUMNS_TO_DROP)\n",
    "\n",
    "features = list(filter(lambda x: x not in [\"time_engaged_in_s\", \"article_drive_id\"], merged_data_cleaned_no_dummies.columns))\n",
    "features"
   ]
  },
  {
   "cell_type": "code",
   "execution_count": null,
   "id": "ba1d08e2-5597-4d2e-97a6-e9defae99a3c",
   "metadata": {},
   "outputs": [],
   "source": [
    "merged_data_cleaned[\"time_engaged_in_s\"]"
   ]
  },
  {
   "cell_type": "code",
   "execution_count": null,
   "id": "1bdb969e-d5ec-4132-aacb-5e56586196ed",
   "metadata": {},
   "outputs": [],
   "source": [
    "from sklearn.svm import LinearSVR\n",
    "from sklearn.model_selection import train_test_split\n",
    "from sklearn.preprocessing import scale\n",
    "\n",
    "X, y = pd.get_dummies(merged_data_cleaned_no_dummies[features]), merged_data_cleaned[\"time_engaged_in_s\"].array\n",
    "X_train, X_test, y_train, y_test = train_test_split(X, y)\n",
    "\n",
    "\n"
   ]
  },
  {
   "cell_type": "code",
   "execution_count": null,
   "id": "1c792c04-db45-40fc-966c-4f7d9c993fc9",
   "metadata": {},
   "outputs": [],
   "source": [
    "svm = LinearSVR()"
   ]
  },
  {
   "cell_type": "code",
   "execution_count": null,
   "id": "8d217324-f8ee-49b3-819e-d400bfa59331",
   "metadata": {},
   "outputs": [],
   "source": [
    "svm.fit(X_train, y_train)"
   ]
  },
  {
   "cell_type": "code",
   "execution_count": null,
   "id": "9e612db9-527d-4962-84bb-d1ae9683a47d",
   "metadata": {},
   "outputs": [],
   "source": [
    "svm.score(X_test, y_test)"
   ]
  },
  {
   "cell_type": "code",
   "execution_count": null,
   "id": "a7cff3b9-822d-4b25-b467-dd364e14b038",
   "metadata": {},
   "outputs": [],
   "source": [
    "\n",
    "svm.predict(X_test)"
   ]
  },
  {
   "cell_type": "code",
   "execution_count": null,
   "id": "329b195b-3955-45a8-98c4-8ce213c37787",
   "metadata": {},
   "outputs": [],
   "source": [
    "X_test"
   ]
  },
  {
   "cell_type": "code",
   "execution_count": null,
   "id": "a9ab3d89-c652-4529-ab2c-22c0d9d2d595",
   "metadata": {},
   "outputs": [],
   "source": [
    "y_test"
   ]
  },
  {
   "cell_type": "code",
   "execution_count": null,
   "id": "ffa16dde-175d-47b2-80a9-ade582c548ba",
   "metadata": {},
   "outputs": [],
   "source": [
    "y_pred = svm.predict(X_test)"
   ]
  },
  {
   "cell_type": "code",
   "execution_count": null,
   "id": "33384b65-784d-4fc1-b4bc-e39fa04f1624",
   "metadata": {},
   "outputs": [],
   "source": [
    "sns.histplot(y_test)"
   ]
  },
  {
   "cell_type": "code",
   "execution_count": null,
   "id": "92371c42-7beb-4aab-bc72-1281feb231aa",
   "metadata": {},
   "outputs": [],
   "source": [
    "sns.histplot(y_pred)"
   ]
  },
  {
   "cell_type": "code",
   "execution_count": null,
   "id": "754a8dc9-41a7-4f17-b2ee-d86e2daa4a21",
   "metadata": {},
   "outputs": [],
   "source": []
  }
 ],
 "metadata": {
  "kernelspec": {
   "display_name": "Python 3 (ipykernel)",
   "language": "python",
   "name": "python3"
  },
  "language_info": {
   "codemirror_mode": {
    "name": "ipython",
    "version": 3
   },
   "file_extension": ".py",
   "mimetype": "text/x-python",
   "name": "python",
   "nbconvert_exporter": "python",
   "pygments_lexer": "ipython3",
   "version": "3.9.12"
  }
 },
 "nbformat": 4,
 "nbformat_minor": 5
}
