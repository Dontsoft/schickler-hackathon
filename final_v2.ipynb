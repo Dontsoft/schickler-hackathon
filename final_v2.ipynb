{
 "cells": [
  {
   "cell_type": "code",
   "execution_count": 1,
   "id": "418125ac-d9fc-4bb8-aa1d-8fd61c3d0c10",
   "metadata": {},
   "outputs": [],
   "source": [
    "import pandas as pd\n",
    "import pyarrow.parquet as pq\n",
    "import matplotlib.pyplot as plt\n",
    "import datetime\n",
    "import gc\n",
    "import glob\n",
    "import os\n",
    "import seaborn as sns\n",
    "\n",
    "from sklearn.svm import LinearSVC\n",
    "from sklearn.model_selection import train_test_split\n",
    "\n",
    "\n",
    "EMO_COLUMNS = [\"pad_pleasure\", \"pad_arousal\", \"pad_dominance\", \"preview_pad_pleasure\", \"preview_pad_arousal\", \"preview_pad_dominance\", \"emo_aerger\", \"emo_erwarten\", \"emo_ekel\", \"emo_furcht\", \"emo_freude\", \"emo_traurigkeit\", \"emo_ueberraschung\", \"emo_vertrauen\", \"preview_emo_aerger\", \"preview_emo_erwarten\", \"preview_emo_ekel\", \"preview_emo_furcht\", \"preview_emo_freude\", \"preview_emo_traurigkeit\", \"preview_emo_ueberraschung\", \"preview_emo_vertrauen\"]\n",
    "PLAIN_TEXT_COLUMNS = [\"article_header\", \"article_teaser\", \"article_full_text\", \"article_preview_emotion\"]\n",
    "COLUMNS_TO_DROP = [\"published_at_local\", \"modified_at_local\", \"publisher_id\"]\n",
    "ARTICLE_DATA_PATH = \"data/Drive Daten/students_articles_enriched_1.parquet.gzip\"\n",
    "PAGEVIEW_DATA_PATH = \"data/Drive Daten/students_pageviews_2021-01-02.parquet.gzip\"\n",
    "\n",
    "gc.collect()\n",
    "\n",
    "def get_first_batch(path):\n",
    "    parquet_file = pq.ParquetFile(path)\n",
    "    for batch in parquet_file.iter_batches():\n",
    "        return batch.to_pandas()\n",
    "def get_all_batches(path):\n",
    "    parquet_file = pq.ParquetFile(path)\n",
    "    return pd.concat([batch.to_pandas() for batch in parquet_file.iter_batches()])\n",
    "\n",
    "def patch_article_full_text(df):\n",
    "    df[\"ARI\"] = df[\"article_full_text\"].apply(lambda x: x.replace(\"\\n\", \" \")).apply(lambda x:ARI(x))\n",
    "    df = df.drop(columns=PLAIN_TEXT_COLUMNS)\n",
    "    df[[\"topic\", \"locality\", \"newstype\", \"genre\"]] = df[[\"topic\", \"locality\", \"newstype\", \"genre\"]].fillna(\"\")\n",
    "    df[EMO_COLUMNS] = df[EMO_COLUMNS].fillna(0)\n",
    "    df[[\"is_plus_article\"]] = df[[\"is_plus_article\"]].fillna(False)\n",
    "    return df\n",
    "\n",
    "# Calculate text complexity using rounded ARI\n",
    "def ARI(text):\n",
    "    score = 0.0 \n",
    "    if len(text) > 0:\n",
    "        score = round(4.71 * (len(text) / len(text.split()) ) +  0.5 * ( len(text.split()) / len(text.split('.'))) - 21.43)\n",
    "        return score if score > 0 else 0"
   ]
  },
  {
   "cell_type": "code",
   "execution_count": 2,
   "id": "c676071e-4095-40f9-8958-a614662109e4",
   "metadata": {},
   "outputs": [],
   "source": [
    "article_data = patch_article_full_text(get_all_batches(ARTICLE_DATA_PATH))\n",
    "pageview_data = pd.concat([get_first_batch(f) for f in glob.glob(f\"{os.getcwd()}/data/Drive Daten/students_pageviews*.gzip\")][:50])\n",
    "pageview_data = get_first_batch(PAGEVIEW_DATA_PATH)"
   ]
  },
  {
   "cell_type": "code",
   "execution_count": 3,
   "id": "4e359e73-3a72-491b-a3da-3e3e25aa24f4",
   "metadata": {},
   "outputs": [],
   "source": [
    "pageview_data_grouped = pageview_data[[\"article_drive_id\", \"time_engaged_in_s\"]].groupby([\"article_drive_id\"]).sum([\"time_engaged_in_s\"]).reset_index()\n",
    "\n",
    "merged_data = pd.merge(article_data, pageview_data_grouped, on=\"article_drive_id\")\n",
    "merged_data[\"is_plus_article\"].fillna(False, inplace=True)\n",
    "merged_data = pd.merge(merged_data, pageview_data[[\"article_drive_id\", \"portal_id\"]], on=\"article_drive_id\")"
   ]
  },
  {
   "cell_type": "code",
   "execution_count": 4,
   "id": "cdf356d3-f18f-4679-a288-ef48d763c998",
   "metadata": {},
   "outputs": [
    {
     "data": {
      "text/plain": [
       "Index(['publisher_id', 'article_drive_id', 'is_plus_article', 'is_dpa',\n",
       "       'published_at_local', 'modified_at_local', 'pad_pleasure',\n",
       "       'pad_arousal', 'pad_dominance', 'preview_pad_pleasure',\n",
       "       'preview_pad_arousal', 'preview_pad_dominance', 'emo_aerger',\n",
       "       'emo_erwarten', 'emo_ekel', 'emo_furcht', 'emo_freude',\n",
       "       'emo_traurigkeit', 'emo_ueberraschung', 'emo_vertrauen',\n",
       "       'preview_emo_aerger', 'preview_emo_erwarten', 'preview_emo_ekel',\n",
       "       'preview_emo_furcht', 'preview_emo_freude', 'preview_emo_traurigkeit',\n",
       "       'preview_emo_ueberraschung', 'preview_emo_vertrauen',\n",
       "       'article_header_contains_quote', 'article_header_contains_question',\n",
       "       'article_header_contains_doppelpunkt',\n",
       "       'article_header_contains_pronoun_writer',\n",
       "       'article_header_contains_pronoun_reader',\n",
       "       'article_preview_contains_quote', 'article_preview_contains_question',\n",
       "       'article_preview_contains_doppelpunkt',\n",
       "       'article_preview_contains_pronoun_writer',\n",
       "       'article_preview_contains_pronoun_reader', 'topic', 'locality',\n",
       "       'newstype', 'genre', 'ARI', 'time_engaged_in_s', 'portal_id'],\n",
       "      dtype='object')"
      ]
     },
     "execution_count": 4,
     "metadata": {},
     "output_type": "execute_result"
    }
   ],
   "source": [
    "merged_data.columns"
   ]
  },
  {
   "cell_type": "code",
   "execution_count": 5,
   "id": "873f25c4-03bb-43f5-9124-108a9ac57546",
   "metadata": {},
   "outputs": [
    {
     "name": "stdout",
     "output_type": "stream",
     "text": [
      "['portal_1' 'portal_31' 'portal_17' 'portal_3' 'portal_2']\n",
      "['Vermischtes: Gesundheit' 'Justiz/Kriminalität' 'Vermischtes: Religion'\n",
      " 'Vermischtes: Soziales' 'Verkehr/Infrastruktur' '' 'Kultur'\n",
      " 'Vermischtes: Sonstiges' 'Vermischtes: Leute' 'Wirtschaft: Unternehmen'\n",
      " 'Vermischtes: Freizeit/Hobbys' 'Sport: Fußball' 'Politik'\n",
      " 'Katastrophe/Unglück' 'Sport: Nicht-Fußball' 'Vermischtes: Wissenschaft'\n",
      " 'Bildung/Erziehung' 'Wirtschaft: Verbraucher']\n",
      "['National' 'Lokal (Lokalausgabe)' 'Regional (Verbreitungsgebiet)' ''\n",
      " 'International']\n",
      "['News to Know' 'News to Entertain' '' 'News to Use']\n",
      "['Nachrichten/Bericht' 'Meinung' 'Ratgeber/Service' ''\n",
      " 'Reportage/Storytelling' 'Kurzmeldung' 'Porträt' 'Interview'\n",
      " 'Newsblog/Ticker']\n"
     ]
    }
   ],
   "source": [
    "print(merged_data.portal_id.unique())\n",
    "print(merged_data.topic.unique())\n",
    "print(merged_data.locality.unique())\n",
    "print(merged_data.newstype.unique())\n",
    "print(merged_data.genre.unique())"
   ]
  },
  {
   "cell_type": "code",
   "execution_count": 6,
   "id": "7ae6709b-ce26-45fb-91e0-c5b87b153435",
   "metadata": {},
   "outputs": [
    {
     "name": "stderr",
     "output_type": "stream",
     "text": [
      "/opt/miniconda3/lib/python3.9/site-packages/sklearn/svm/_base.py:1206: ConvergenceWarning: Liblinear failed to converge, increase the number of iterations.\n",
      "  warnings.warn(\n"
     ]
    },
    {
     "name": "stdout",
     "output_type": "stream",
     "text": [
      "0.911970190964136\n"
     ]
    },
    {
     "data": {
      "text/plain": [
       "<AxesSubplot:ylabel='Count'>"
      ]
     },
     "execution_count": 6,
     "metadata": {},
     "output_type": "execute_result"
    },
    {
     "data": {
      "image/png": "[encoded data removed]",
      "text/plain": [
       "<Figure size 432x288 with 1 Axes>"
      ]
     },
     "metadata": {
      "needs_background": "light"
     },
     "output_type": "display_data"
    }
   ],
   "source": [
    "merged_data_cleaned_no_dummies = merged_data.drop(columns=COLUMNS_TO_DROP)\n",
    "features = list(filter(lambda x: x not in [\"time_engaged_in_s\", \"article_drive_id\"], merged_data_cleaned_no_dummies.columns))\n",
    "merged_data_cleaned_no_dummies_no_na = merged_data_cleaned_no_dummies.dropna()\n",
    "X, y = pd.get_dummies(merged_data_cleaned_no_dummies_no_na[features]), merged_data_cleaned_no_dummies_no_na[\"time_engaged_in_s\"].array\n",
    "X_train, X_test, y_train, y_test = train_test_split(X, y)\n",
    "svm = LinearSVC()\n",
    "svm.fit(X_train, y_train)\n",
    "print(svm.score(X_test, y_test))\n",
    "y_pred = svm.predict(X_test)\n",
    "sns.histplot(y_pred)"
   ]
  },
  {
   "cell_type": "code",
   "execution_count": 10,
   "id": "83baff60-2856-4587-a8a5-3b21ea0b6c23",
   "metadata": {},
   "outputs": [
    {
     "name": "stdout",
     "output_type": "stream",
     "text": [
      "Index(['is_plus_article', 'is_dpa', 'pad_pleasure', 'pad_arousal',\n",
      "       'pad_dominance', 'preview_pad_pleasure', 'preview_pad_arousal',\n",
      "       'preview_pad_dominance', 'emo_aerger', 'emo_erwarten', 'emo_ekel',\n",
      "       'emo_furcht', 'emo_freude', 'emo_traurigkeit', 'emo_ueberraschung',\n",
      "       'emo_vertrauen', 'preview_emo_aerger', 'preview_emo_erwarten',\n",
      "       'preview_emo_ekel', 'preview_emo_furcht', 'preview_emo_freude',\n",
      "       'preview_emo_traurigkeit', 'preview_emo_ueberraschung',\n",
      "       'preview_emo_vertrauen', 'article_header_contains_quote',\n",
      "       'article_header_contains_question',\n",
      "       'article_header_contains_doppelpunkt',\n",
      "       'article_header_contains_pronoun_writer',\n",
      "       'article_header_contains_pronoun_reader',\n",
      "       'article_preview_contains_quote', 'article_preview_contains_question',\n",
      "       'article_preview_contains_doppelpunkt',\n",
      "       'article_preview_contains_pronoun_writer',\n",
      "       'article_preview_contains_pronoun_reader', 'ARI', 'topic_',\n",
      "       'topic_Bildung/Erziehung', 'topic_Justiz/Kriminalität',\n",
      "       'topic_Katastrophe/Unglück', 'topic_Kultur', 'topic_Politik',\n",
      "       'topic_Sport: Fußball', 'topic_Sport: Nicht-Fußball',\n",
      "       'topic_Verkehr/Infrastruktur', 'topic_Vermischtes: Freizeit/Hobbys',\n",
      "       'topic_Vermischtes: Gesundheit', 'topic_Vermischtes: Leute',\n",
      "       'topic_Vermischtes: Religion', 'topic_Vermischtes: Sonstiges',\n",
      "       'topic_Vermischtes: Soziales', 'topic_Vermischtes: Wissenschaft',\n",
      "       'topic_Wirtschaft: Unternehmen', 'topic_Wirtschaft: Verbraucher',\n",
      "       'locality_', 'locality_International', 'locality_Lokal (Lokalausgabe)',\n",
      "       'locality_National', 'locality_Regional (Verbreitungsgebiet)',\n",
      "       'newstype_', 'newstype_News to Entertain', 'newstype_News to Know',\n",
      "       'newstype_News to Use', 'genre_', 'genre_Interview',\n",
      "       'genre_Kurzmeldung', 'genre_Meinung', 'genre_Nachrichten/Bericht',\n",
      "       'genre_Newsblog/Ticker', 'genre_Porträt', 'genre_Ratgeber/Service',\n",
      "       'genre_Reportage/Storytelling', 'portal_id_portal_1',\n",
      "       'portal_id_portal_17', 'portal_id_portal_2', 'portal_id_portal_3',\n",
      "       'portal_id_portal_31'],\n",
      "      dtype='object')\n"
     ]
    }
   ],
   "source": [
    "print(X.columns)"
   ]
  },
  {
   "cell_type": "code",
   "execution_count": 8,
   "id": "24f07ef1-40a1-43f7-968d-4a1a30158122",
   "metadata": {},
   "outputs": [
    {
     "data": {
      "text/plain": [
       "['LocalModel.joblib']"
      ]
     },
     "execution_count": 8,
     "metadata": {},
     "output_type": "execute_result"
    }
   ],
   "source": [
    "from joblib import dump\n",
    "dump(svm, \"LocalModel.joblib\")"
   ]
  }
 ],
 "metadata": {
  "kernelspec": {
   "display_name": "Python 3 (ipykernel)",
   "language": "python",
   "name": "python3"
  },
  "language_info": {
   "codemirror_mode": {
    "name": "ipython",
    "version": 3
   },
   "file_extension": ".py",
   "mimetype": "text/x-python",
   "name": "python",
   "nbconvert_exporter": "python",
   "pygments_lexer": "ipython3",
   "version": "3.9.12"
  }
 },
 "nbformat": 4,
 "nbformat_minor": 5
}
